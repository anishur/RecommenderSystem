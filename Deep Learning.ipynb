{
 "cells": [
  {
   "cell_type": "code",
   "execution_count": 3,
   "id": "2c9f0df7-9e20-4af7-8b19-4e56d5710645",
   "metadata": {},
   "outputs": [],
   "source": [
    "import pandas as pd\n",
    "import numpy as np\n",
    "np.random.seed(123)"
   ]
  },
  {
   "cell_type": "code",
   "execution_count": 4,
   "id": "94ac7421-e884-4780-96be-40045fbf4a77",
   "metadata": {},
   "outputs": [],
   "source": [
    "ratings = pd.read_csv('ratings.csv', parse_dates=['timestamp'])\n"
   ]
  },
  {
   "cell_type": "code",
   "execution_count": null,
   "id": "9dc331b6-63ab-4eaf-a9f6-61e83a222d83",
   "metadata": {},
   "outputs": [],
   "source": [
    "# In order to keep memory usage manageable, use data from 30% of the users from dataset\n",
    "# select randomly 30% of the users and only use data from the selected users"
   ]
  },
  {
   "cell_type": "code",
   "execution_count": 5,
   "id": "4afc3975-0976-4d09-8419-0f2e37fa269a",
   "metadata": {},
   "outputs": [],
   "source": [
    "rand_userIds = np.random.choice(ratings['userId'].unique(), size=int(len(ratings['userId'].unique())*0.3),replace=False)"
   ]
  },
  {
   "cell_type": "code",
   "execution_count": 6,
   "id": "12224fbd-bc38-4419-9bdc-7499f1e62cec",
   "metadata": {},
   "outputs": [],
   "source": [
    "ratings = ratings.loc[ratings['userId'].isin(rand_userIds)]"
   ]
  },
  {
   "cell_type": "code",
   "execution_count": 8,
   "id": "1df00152-c64f-4915-9452-256fe395e47c",
   "metadata": {},
   "outputs": [
    {
     "data": {
      "text/html": [
       "<div>\n",
       "<style scoped>\n",
       "    .dataframe tbody tr th:only-of-type {\n",
       "        vertical-align: middle;\n",
       "    }\n",
       "\n",
       "    .dataframe tbody tr th {\n",
       "        vertical-align: top;\n",
       "    }\n",
       "\n",
       "    .dataframe thead th {\n",
       "        text-align: right;\n",
       "    }\n",
       "</style>\n",
       "<table border=\"1\" class=\"dataframe\">\n",
       "  <thead>\n",
       "    <tr style=\"text-align: right;\">\n",
       "      <th></th>\n",
       "      <th>userId</th>\n",
       "      <th>movieId</th>\n",
       "      <th>rating</th>\n",
       "      <th>timestamp</th>\n",
       "    </tr>\n",
       "  </thead>\n",
       "  <tbody>\n",
       "    <tr>\n",
       "      <th>560</th>\n",
       "      <td>6</td>\n",
       "      <td>2</td>\n",
       "      <td>4.0</td>\n",
       "      <td>845553522</td>\n",
       "    </tr>\n",
       "    <tr>\n",
       "      <th>561</th>\n",
       "      <td>6</td>\n",
       "      <td>3</td>\n",
       "      <td>5.0</td>\n",
       "      <td>845554296</td>\n",
       "    </tr>\n",
       "    <tr>\n",
       "      <th>562</th>\n",
       "      <td>6</td>\n",
       "      <td>4</td>\n",
       "      <td>3.0</td>\n",
       "      <td>845554349</td>\n",
       "    </tr>\n",
       "    <tr>\n",
       "      <th>563</th>\n",
       "      <td>6</td>\n",
       "      <td>5</td>\n",
       "      <td>5.0</td>\n",
       "      <td>845553938</td>\n",
       "    </tr>\n",
       "    <tr>\n",
       "      <th>564</th>\n",
       "      <td>6</td>\n",
       "      <td>6</td>\n",
       "      <td>4.0</td>\n",
       "      <td>845553757</td>\n",
       "    </tr>\n",
       "  </tbody>\n",
       "</table>\n",
       "</div>"
      ],
      "text/plain": [
       "     userId  movieId  rating  timestamp\n",
       "560       6        2     4.0  845553522\n",
       "561       6        3     5.0  845554296\n",
       "562       6        4     3.0  845554349\n",
       "563       6        5     5.0  845553938\n",
       "564       6        6     4.0  845553757"
      ]
     },
     "execution_count": 8,
     "metadata": {},
     "output_type": "execute_result"
    }
   ],
   "source": [
    "ratings.head()"
   ]
  },
  {
   "cell_type": "code",
   "execution_count": 10,
   "id": "c53a06d0-4576-4c9b-9455-2f33456bf731",
   "metadata": {},
   "outputs": [],
   "source": [
    "# Train-test split\n",
    "# timestamp column shows the data and time the review was submitted\n",
    "# implementing train-test split using the leave-one-out methodology\n",
    "# For each user, the most recentreview is used as the test set (i.e. leave one out)\n",
    "# rest will be used as training data"
   ]
  },
  {
   "cell_type": "code",
   "execution_count": null,
   "id": "1b314cfc-0d68-4ac6-af7e-1e9a3011cdda",
   "metadata": {},
   "outputs": [],
   "source": [
    "# Split ratings dataset into a train and test set using leave-one-out methodology"
   ]
  },
  {
   "cell_type": "code",
   "execution_count": 11,
   "id": "1918d154-65a1-4573-831f-261fadf7e0ad",
   "metadata": {},
   "outputs": [],
   "source": [
    "ratings['rank_latest'] = ratings.groupby(['userId'])['timestamp'].rank(method='first', ascending=False)"
   ]
  },
  {
   "cell_type": "code",
   "execution_count": 12,
   "id": "c88c8278-0adf-4740-aded-4bfb7810537a",
   "metadata": {},
   "outputs": [],
   "source": [
    "train_ratings = ratings[ratings['rank_latest'] != 1]"
   ]
  },
  {
   "cell_type": "code",
   "execution_count": 13,
   "id": "15540320-f9c6-47af-ba1a-108a2e0606e2",
   "metadata": {},
   "outputs": [],
   "source": [
    "test_ratings = ratings[ratings['rank_latest'] == 1]"
   ]
  },
  {
   "cell_type": "code",
   "execution_count": null,
   "id": "86f2a244-2609-4d12-9e09-fa6956f0384d",
   "metadata": {},
   "outputs": [],
   "source": [
    "# drop columns that we no longer need"
   ]
  },
  {
   "cell_type": "code",
   "execution_count": 14,
   "id": "6e64467d-3f71-4980-8ca1-bccb4ea96236",
   "metadata": {},
   "outputs": [],
   "source": [
    "train_ratings = train_ratings[['userId','movieId','rating']]"
   ]
  },
  {
   "cell_type": "code",
   "execution_count": 15,
   "id": "b54c5a9e-9cfa-46dd-97cf-81986c14626b",
   "metadata": {},
   "outputs": [],
   "source": [
    "test_ratings = test_ratings[['userId', 'movieId', 'rating']]"
   ]
  },
  {
   "cell_type": "code",
   "execution_count": null,
   "id": "1063eb79-d989-4877-8856-395c288c2712",
   "metadata": {},
   "outputs": [],
   "source": [
    "# converting the dataset into an implicit feedback dataset\n",
    "# MoveLens dataset is based on explicit feedback\n",
    "# to convert it into an implicit feedback dataset\n",
    "# simply binarize the ratings and convert them to 1 (i.e. positive class)\n",
    "# 1 representing the user has interacted with the item"
   ]
  },
  {
   "cell_type": "code",
   "execution_count": 16,
   "id": "1f7581da-69bb-4ebf-bbb3-c341ad902fb4",
   "metadata": {},
   "outputs": [],
   "source": [
    "train_ratings.loc[:, 'rating'] = 1"
   ]
  },
  {
   "cell_type": "code",
   "execution_count": 17,
   "id": "2c41b3c0-e169-4dfb-bb9d-ed989cbe8998",
   "metadata": {},
   "outputs": [
    {
     "data": {
      "text/html": [
       "<div>\n",
       "<style scoped>\n",
       "    .dataframe tbody tr th:only-of-type {\n",
       "        vertical-align: middle;\n",
       "    }\n",
       "\n",
       "    .dataframe tbody tr th {\n",
       "        vertical-align: top;\n",
       "    }\n",
       "\n",
       "    .dataframe thead th {\n",
       "        text-align: right;\n",
       "    }\n",
       "</style>\n",
       "<table border=\"1\" class=\"dataframe\">\n",
       "  <thead>\n",
       "    <tr style=\"text-align: right;\">\n",
       "      <th></th>\n",
       "      <th>userId</th>\n",
       "      <th>movieId</th>\n",
       "      <th>rating</th>\n",
       "    </tr>\n",
       "  </thead>\n",
       "  <tbody>\n",
       "    <tr>\n",
       "      <th>560</th>\n",
       "      <td>6</td>\n",
       "      <td>2</td>\n",
       "      <td>1</td>\n",
       "    </tr>\n",
       "    <tr>\n",
       "      <th>561</th>\n",
       "      <td>6</td>\n",
       "      <td>3</td>\n",
       "      <td>1</td>\n",
       "    </tr>\n",
       "    <tr>\n",
       "      <th>562</th>\n",
       "      <td>6</td>\n",
       "      <td>4</td>\n",
       "      <td>1</td>\n",
       "    </tr>\n",
       "    <tr>\n",
       "      <th>563</th>\n",
       "      <td>6</td>\n",
       "      <td>5</td>\n",
       "      <td>1</td>\n",
       "    </tr>\n",
       "    <tr>\n",
       "      <th>564</th>\n",
       "      <td>6</td>\n",
       "      <td>6</td>\n",
       "      <td>1</td>\n",
       "    </tr>\n",
       "  </tbody>\n",
       "</table>\n",
       "</div>"
      ],
      "text/plain": [
       "     userId  movieId  rating\n",
       "560       6        2       1\n",
       "561       6        3       1\n",
       "562       6        4       1\n",
       "563       6        5       1\n",
       "564       6        6       1"
      ]
     },
     "execution_count": 17,
     "metadata": {},
     "output_type": "execute_result"
    }
   ],
   "source": [
    "train_ratings.head()"
   ]
  },
  {
   "cell_type": "code",
   "execution_count": null,
   "id": "cd50e307-3ee3-4ff6-9dcf-159f9b2e1f49",
   "metadata": {},
   "outputs": [],
   "source": [
    "# after binarizing dataset every sample in the dataset now belongs to the positive class\n",
    "# require -ve negative samples to train our models"
   ]
  },
  {
   "cell_type": "code",
   "execution_count": null,
   "id": "4440ba15-5fc9-4a32-812e-695a2aa4218a",
   "metadata": {},
   "outputs": [],
   "source": [
    "# code below generates 4 -ve negative samples for each row of data\n",
    "# the ratio of -ve to +ve saples is 4:1\n",
    "# this ratio is choosen arbitrarily"
   ]
  },
  {
   "cell_type": "code",
   "execution_count": 29,
   "id": "748b30e8-f562-43d0-966f-8d41d0ffc0ce",
   "metadata": {},
   "outputs": [],
   "source": [
    "# Get a list of all movie IDs \n",
    "\n",
    "all_movieIds = ratings['movieId'].unique()"
   ]
  },
  {
   "cell_type": "code",
   "execution_count": 30,
   "id": "ffe9d2ce-b9dd-4117-aa9b-54a36257157f",
   "metadata": {},
   "outputs": [],
   "source": [
    "# placeholders that will hold the training data\n",
    "\n",
    "users, items, labels = [], [], []"
   ]
  },
  {
   "cell_type": "code",
   "execution_count": 31,
   "id": "8e83dc98-8d67-4356-81ea-3817fe8902d8",
   "metadata": {},
   "outputs": [],
   "source": [
    "# This is the set of items that each user has interaction with\n",
    "\n",
    "user_item_set = set(zip(train_ratings['userId'], train_ratings['movieId']))"
   ]
  },
  {
   "cell_type": "code",
   "execution_count": 32,
   "id": "b2ecee73-9fcd-471f-b0dd-315c8657053d",
   "metadata": {},
   "outputs": [],
   "source": [
    "# 4:1 ratio of negative to positive samples \n",
    "\n",
    "num_negatives = 4 \n",
    "\n",
    "for (u, i) in user_item_set:\n",
    "    \n",
    "    users.append(u)\n",
    "    \n",
    "    items.append(i)\n",
    "    \n",
    "    labels.append(1) # items that the user has interacted with are positive\n",
    "    \n",
    "    for _ in range(num_negatives):\n",
    "        \n",
    "        # randomly select an item\n",
    "        \n",
    "        negative_item = np.random.choice(all_movieIds)\n",
    "        \n",
    "        # check that the user has not interested with this item\n",
    "        \n",
    "        while (u, negative_item) in user_item_set:\n",
    "            \n",
    "            negative_item = np.random.choice(all_movieIds)\n",
    "            \n",
    "            users.append(u)\n",
    "            \n",
    "            items.append(negative_item)\n",
    "            \n",
    "            labels.append(0) # item not interacted with are negative"
   ]
  },
  {
   "cell_type": "code",
   "execution_count": null,
   "id": "7816fb30-7532-4507-b31d-dd9e8edd94f3",
   "metadata": {},
   "outputs": [],
   "source": [
    "# Done upto now....we have the data in the format required by our model"
   ]
  },
  {
   "cell_type": "code",
   "execution_count": null,
   "id": "ee13dee2-ee1f-4eb1-9460-56946f8cfc7c",
   "metadata": {},
   "outputs": [],
   "source": [
    "# define a PyTorch Dataset to facilitate training"
   ]
  },
  {
   "cell_type": "code",
   "execution_count": 35,
   "id": "cee94c49-0f00-4fd9-8a2f-65bd21802bc7",
   "metadata": {},
   "outputs": [],
   "source": [
    "import torch\n",
    "from torch.utils.data import Dataset"
   ]
  },
  {
   "cell_type": "code",
   "execution_count": 36,
   "id": "a6510a4f-6f0e-4a29-9548-7b6e322ec2bb",
   "metadata": {},
   "outputs": [],
   "source": [
    "class MovieLensTrainDataset(Dataset):\n",
    "    \n",
    "    \"\"\"MovieLens PyTorch Dataset for Training\n",
    "    \n",
    "    Args:\n",
    "        ratings (pd.DataFrame): Dataframe containing the movie ratings\n",
    "        all_movieIds (list): List containing all movieIds\n",
    "        \n",
    "        \"\"\"\n",
    "    def __init__(self, ratings, all_movieIds):\n",
    "        \n",
    "        self.users, self.items, self.labels = self.get_dataset(ratings, all_movieIds)\n",
    "    \n",
    "    def __len__(self):\n",
    "        \n",
    "        return len(self.users)\n",
    "    \n",
    "    def __getitem__(self, idx):\n",
    "        \n",
    "        return self.users[idx], self.items[idx], self.labels[idx]\n",
    "    \n",
    "    def get_dataset(self,ratings, all_movieIds):\n",
    "        \n",
    "        users, items, labels = [], [], []\n",
    "        \n",
    "        user_item_set = set(zip(ratings['userId'], ratings['movieId']))\n",
    "    \n",
    "        num_negatives = 4\n",
    "        \n",
    "        for u, i in user_item_set:\n",
    "            \n",
    "            users.append(u)\n",
    "            items.append(i)\n",
    "            labels.append(1)\n",
    "            \n",
    "            for _ in range(num_negatives):\n",
    "                \n",
    "                negative_item = np.random.choice(all_movieIds)\n",
    "                \n",
    "            users.append(u)\n",
    "            items.append(negative_item)\n",
    "            labels.append(0)\n",
    "            \n",
    "        return torch.tensor(users), torch.tensor(items), torch.tensor(labels)\n",
    "    "
   ]
  }
 ],
 "metadata": {
  "kernelspec": {
   "display_name": "Python 3 (ipykernel)",
   "language": "python",
   "name": "python3"
  },
  "language_info": {
   "codemirror_mode": {
    "name": "ipython",
    "version": 3
   },
   "file_extension": ".py",
   "mimetype": "text/x-python",
   "name": "python",
   "nbconvert_exporter": "python",
   "pygments_lexer": "ipython3",
   "version": "3.9.7"
  }
 },
 "nbformat": 4,
 "nbformat_minor": 5
}
